{
  "nbformat": 4,
  "nbformat_minor": 0,
  "metadata": {
    "colab": {
      "name": "Fika Triana_1101194018_Tugas Python Minggu 12",
      "provenance": [],
      "authorship_tag": "ABX9TyOEUv6saFc/+cpb23k3Ueeu",
      "include_colab_link": true
    },
    "kernelspec": {
      "name": "python3",
      "display_name": "Python 3"
    }
  },
  "cells": [
    {
      "cell_type": "markdown",
      "metadata": {
        "id": "view-in-github",
        "colab_type": "text"
      },
      "source": [
        "<a href=\"https://colab.research.google.com/github/fikatriana/Pemograman_Python/blob/main/pertemuan%2012_fungsi%20python%20untuk%20perhitungan%20pathloss%20model%20COST%20231.ipynb\" target=\"_parent\"><img src=\"https://colab.research.google.com/assets/colab-badge.svg\" alt=\"Open In Colab\"/></a>"
      ]
    },
    {
      "cell_type": "markdown",
      "metadata": {
        "id": "H9DsM7dK5e25"
      },
      "source": [
        "Nama : Fika Triana | NIM : 1101194018 | Kelas : TT-43-G1 | Tugas Python Minggu 12"
      ]
    },
    {
      "cell_type": "code",
      "metadata": {
        "id": "Ud2GjCE8tcrK"
      },
      "source": [
        "import numpy as np"
      ],
      "execution_count": 26,
      "outputs": []
    },
    {
      "cell_type": "code",
      "metadata": {
        "colab": {
          "base_uri": "https://localhost:8080/"
        },
        "id": "L842c80DtnEk",
        "outputId": "1180fe67-8d38-4133-860a-53e93f3c9b4b"
      },
      "source": [
        "#masukkan nilai \r\n",
        "d=int(input(\"Jarak Pengirim dan Penerima (km)\\t\\t: \"))\r\n",
        "f=int(input(\"Frekuensi(range 150-2000 MHz)\\t\\t\\t: \"))\r\n",
        "type=input(\"Tipe Area (Urban, Suburban, atau Open)\\t\\t: \")\r\n",
        "ht=int(input(\"Tinggi Antenna Pemancar(range 30-200 m)\\t\\t: \"))\r\n",
        "hr=int(input(\"Tinggi Antenna Penerima(range 1-30 m)\\t\\t: \"))"
      ],
      "execution_count": 27,
      "outputs": [
        {
          "output_type": "stream",
          "text": [
            "Jarak Pengirim dan Penerima (km)\t\t: 100\n",
            "Frekuensi(range 150-2000 MHz)\t\t\t: 1000\n",
            "Tipe Area (Urban, Suburban, atau Open)\t\t: Urban\n",
            "Tinggi Antenna Pemancar(range 30-200 m)\t\t: 100\n",
            "Tinggi Antenna Penerima(range 1-30 m)\t\t: 20\n"
          ],
          "name": "stdout"
        }
      ]
    },
    {
      "cell_type": "code",
      "metadata": {
        "id": "ART7J4goyrhM"
      },
      "source": [
        "def ploss():\r\n",
        "  #menentukan C1&C2\r\n",
        "  if (150<=f<=1500):\r\n",
        "    C1=69.55\r\n",
        "    C2=26.16\r\n",
        "  elif (1500<f<=2000):\r\n",
        "    C1=46.3\r\n",
        "    C2=33.9\r\n",
        "\r\n",
        "  #menentukan Cm\r\n",
        "  if type=='Urban':\r\n",
        "    Cm=0\r\n",
        "  elif type=='Suburban':\r\n",
        "    Cm=(-2*((np.log10(f/28))**2))-(5.4)\r\n",
        "  elif type=='Open':\r\n",
        "    Cm=(-4.78*((np.log10(f))**2))+(18.33*(np.log10(f)))-(40.94)\r\n",
        "\r\n",
        "  #menentukan a\r\n",
        "  a=((1.1*np.log10(f)-0.7)*hr)-((1.56*np.log10(f))-0.8)\r\n",
        "\r\n",
        "  #menentukan Pathloss\r\n",
        "  lp=(C1)+(C2*np.log10(f))-(13.83*np.log10(ht))-(a)+((44.9-(6.55*np.log10(ht)))*np.log10(d))+(Cm)\r\n",
        "\r\n",
        "  return lp"
      ],
      "execution_count": 28,
      "outputs": []
    },
    {
      "cell_type": "code",
      "metadata": {
        "colab": {
          "base_uri": "https://localhost:8080/"
        },
        "id": "YdajiyYD2HME",
        "outputId": "8c568ad8-2bad-4804-b299-539505f7d580"
      },
      "source": [
        "n=ploss()\r\n",
        "print('Nilai Pathloss COST 231 adalah',n,'dB')"
      ],
      "execution_count": 29,
      "outputs": [
        {
          "output_type": "stream",
          "text": [
            "Nilai Pathloss COST 231 adalah 135.85 dB\n"
          ],
          "name": "stdout"
        }
      ]
    }
  ]
}